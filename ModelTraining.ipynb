{
 "cells": [
  {
   "cell_type": "code",
   "execution_count": 1,
   "metadata": {},
   "outputs": [],
   "source": [
    "import numpy as np\n",
    "import pandas as pd\n",
    "from sklearn.model_selection import train_test_split\n"
   ]
  },
  {
   "cell_type": "code",
   "execution_count": 2,
   "metadata": {},
   "outputs": [
    {
     "data": {
      "text/html": [
       "<div>\n",
       "<style scoped>\n",
       "    .dataframe tbody tr th:only-of-type {\n",
       "        vertical-align: middle;\n",
       "    }\n",
       "\n",
       "    .dataframe tbody tr th {\n",
       "        vertical-align: top;\n",
       "    }\n",
       "\n",
       "    .dataframe thead th {\n",
       "        text-align: right;\n",
       "    }\n",
       "</style>\n",
       "<table border=\"1\" class=\"dataframe\">\n",
       "  <thead>\n",
       "    <tr style=\"text-align: right;\">\n",
       "      <th></th>\n",
       "      <th>time</th>\n",
       "      <th>tavg</th>\n",
       "      <th>prcp</th>\n",
       "      <th>wspd</th>\n",
       "      <th>wdir</th>\n",
       "      <th>pres</th>\n",
       "      <th>Date</th>\n",
       "    </tr>\n",
       "  </thead>\n",
       "  <tbody>\n",
       "    <tr>\n",
       "      <th>0</th>\n",
       "      <td>2020-01-01 00:01:00</td>\n",
       "      <td>4.7</td>\n",
       "      <td>0.0</td>\n",
       "      <td>10.8</td>\n",
       "      <td>293.0</td>\n",
       "      <td>1035.1</td>\n",
       "      <td>1</td>\n",
       "    </tr>\n",
       "    <tr>\n",
       "      <th>1</th>\n",
       "      <td>2020-01-02 00:01:00</td>\n",
       "      <td>1.3</td>\n",
       "      <td>0.0</td>\n",
       "      <td>4.9</td>\n",
       "      <td>142.0</td>\n",
       "      <td>1032.2</td>\n",
       "      <td>1</td>\n",
       "    </tr>\n",
       "    <tr>\n",
       "      <th>2</th>\n",
       "      <td>2020-01-03 00:01:00</td>\n",
       "      <td>-0.7</td>\n",
       "      <td>0.0</td>\n",
       "      <td>6.3</td>\n",
       "      <td>168.0</td>\n",
       "      <td>1027.9</td>\n",
       "      <td>1</td>\n",
       "    </tr>\n",
       "    <tr>\n",
       "      <th>3</th>\n",
       "      <td>2020-01-04 00:01:00</td>\n",
       "      <td>5.8</td>\n",
       "      <td>3.2</td>\n",
       "      <td>20.9</td>\n",
       "      <td>273.0</td>\n",
       "      <td>1023.7</td>\n",
       "      <td>1</td>\n",
       "    </tr>\n",
       "    <tr>\n",
       "      <th>4</th>\n",
       "      <td>2020-01-05 00:01:00</td>\n",
       "      <td>3.5</td>\n",
       "      <td>0.0</td>\n",
       "      <td>20.1</td>\n",
       "      <td>306.0</td>\n",
       "      <td>1032.2</td>\n",
       "      <td>1</td>\n",
       "    </tr>\n",
       "  </tbody>\n",
       "</table>\n",
       "</div>"
      ],
      "text/plain": [
       "                 time  tavg  prcp  wspd   wdir    pres  Date\n",
       "0 2020-01-01 00:01:00   4.7   0.0  10.8  293.0  1035.1     1\n",
       "1 2020-01-02 00:01:00   1.3   0.0   4.9  142.0  1032.2     1\n",
       "2 2020-01-03 00:01:00  -0.7   0.0   6.3  168.0  1027.9     1\n",
       "3 2020-01-04 00:01:00   5.8   3.2  20.9  273.0  1023.7     1\n",
       "4 2020-01-05 00:01:00   3.5   0.0  20.1  306.0  1032.2     1"
      ]
     },
     "execution_count": 2,
     "metadata": {},
     "output_type": "execute_result"
    }
   ],
   "source": [
    "df=pd.read_csv('weather.csv')\n",
    "df['time']=pd.to_datetime(df['time'],format=\"%Y-%M-%d\")\n",
    "df['Date']=df['time'].dt.month\n",
    "df.head()"
   ]
  },
  {
   "cell_type": "code",
   "execution_count": 3,
   "metadata": {},
   "outputs": [],
   "source": [
    "#target = temp\n",
    "y=df.iloc[:,1]\n",
    "X=df.iloc[:,[2,3,4,5,6]]"
   ]
  },
  {
   "cell_type": "code",
   "execution_count": 4,
   "metadata": {},
   "outputs": [],
   "source": [
    "X_train,X_test,y_train,y_test=train_test_split(X,y,test_size=0.2,random_state=20)"
   ]
  },
  {
   "cell_type": "code",
   "execution_count": 5,
   "metadata": {},
   "outputs": [],
   "source": [
    "from sklearn.linear_model import LinearRegression\n",
    "from sklearn.linear_model import Ridge\n",
    "from sklearn.linear_model import Lasso\n",
    "from sklearn.svm import SVR\n",
    "from sklearn.ensemble import RandomForestRegressor\n",
    "\n",
    "\n",
    "from sklearn.metrics import mean_absolute_error\n",
    "from sklearn.metrics import mean_absolute_percentage_error\n",
    "from sklearn.metrics import mean_squared_error\n",
    "from sklearn.metrics import r2_score\n"
   ]
  },
  {
   "cell_type": "code",
   "execution_count": 6,
   "metadata": {},
   "outputs": [
    {
     "name": "stdout",
     "output_type": "stream",
     "text": [
      "6.195689783570254 7.406969465586071 0.4707859357546924 -7.0499531823983155\n"
     ]
    }
   ],
   "source": [
    "#Linear Regression Model\n",
    "reg=LinearRegression()\n",
    "reg.fit(X_train,y_train)\n",
    "ypred=reg.predict(X_test)\n",
    "\n",
    "mae=mean_absolute_error(ypred,y_test)\n",
    "rmse=np.sqrt(mean_squared_error(ypred,y_test))\n",
    "mape=mean_absolute_percentage_error(ypred,y_test)\n",
    "r2=r2_score(ypred,y_test)\n",
    "\n",
    "print(mae,rmse,mape,r2)\n",
    "\n"
   ]
  },
  {
   "cell_type": "code",
   "execution_count": 7,
   "metadata": {},
   "outputs": [
    {
     "name": "stdout",
     "output_type": "stream",
     "text": [
      "6.195691939705571 7.40696483589988 0.47078523485748763 -7.0504240677603836\n"
     ]
    }
   ],
   "source": [
    "#Ridge Regression Model\n",
    "ridge=Ridge()\n",
    "ridge.fit(X_train,y_train)\n",
    "ypred=ridge.predict(X_test)\n",
    "\n",
    "mae=mean_absolute_error(ypred,y_test)\n",
    "rmse=np.sqrt(mean_squared_error(ypred,y_test))\n",
    "mape=mean_absolute_percentage_error(ypred,y_test)\n",
    "r2=r2_score(ypred,y_test)\n",
    "\n",
    "print(mae,rmse,mape,r2)"
   ]
  },
  {
   "cell_type": "code",
   "execution_count": 8,
   "metadata": {},
   "outputs": [
    {
     "name": "stdout",
     "output_type": "stream",
     "text": [
      "6.202448714206602 7.380824237951661 0.46929837449602835 -9.09654917782634\n"
     ]
    }
   ],
   "source": [
    "#Lasso Regression Model\n",
    "lasso=Lasso()\n",
    "lasso.fit(X_train,y_train)\n",
    "ypred=lasso.predict(X_test)\n",
    "\n",
    "mae=mean_absolute_error(ypred,y_test)\n",
    "rmse=np.sqrt(mean_squared_error(ypred,y_test))\n",
    "mape=mean_absolute_percentage_error(ypred,y_test)\n",
    "r2=r2_score(ypred,y_test)\n",
    "\n",
    "print(mae,rmse,mape,r2)"
   ]
  },
  {
   "cell_type": "code",
   "execution_count": 9,
   "metadata": {},
   "outputs": [
    {
     "name": "stdout",
     "output_type": "stream",
     "text": [
      "6.543749666125777 7.57794359781967 0.505601950633516 -1902.5745607287427\n"
     ]
    }
   ],
   "source": [
    "#SVM Model\n",
    "svm=SVR()\n",
    "svm.fit(X_train,y_train)\n",
    "ypred=svm.predict(X_test)\n",
    "\n",
    "mae=mean_absolute_error(ypred,y_test)\n",
    "rmse=np.sqrt(mean_squared_error(ypred,y_test))\n",
    "mape=mean_absolute_percentage_error(ypred,y_test)\n",
    "r2=r2_score(ypred,y_test)\n",
    "\n",
    "print(mae,rmse,mape,r2)\n"
   ]
  },
  {
   "cell_type": "code",
   "execution_count": 10,
   "metadata": {},
   "outputs": [
    {
     "name": "stdout",
     "output_type": "stream",
     "text": [
      "5.401037542662117 6.754473632682824 0.501734506865438 -0.8700546780090155\n"
     ]
    }
   ],
   "source": [
    "#RandomForestRegressor\n",
    "forest=RandomForestRegressor()\n",
    "forest.fit(X_train,y_train)\n",
    "ypred=forest.predict(X_test)\n",
    "\n",
    "mae=mean_absolute_error(ypred,y_test)\n",
    "rmse=np.sqrt(mean_squared_error(ypred,y_test))\n",
    "mape=mean_absolute_percentage_error(ypred,y_test)\n",
    "r2=r2_score(ypred,y_test)\n",
    "\n",
    "print(mae,rmse,mape,r2)\n"
   ]
  },
  {
   "cell_type": "code",
   "execution_count": 12,
   "metadata": {},
   "outputs": [],
   "source": [
    "#target=precipitation\n",
    "X=df.iloc[:,[1,3,4,5,6]]\n",
    "y=df.iloc[:,2]"
   ]
  },
  {
   "cell_type": "code",
   "execution_count": 15,
   "metadata": {},
   "outputs": [],
   "source": [
    "X_train,X_test,y_train,y_test=train_test_split(X,y,test_size=0.2,random_state=20)"
   ]
  },
  {
   "cell_type": "code",
   "execution_count": 16,
   "metadata": {},
   "outputs": [
    {
     "name": "stdout",
     "output_type": "stream",
     "text": [
      "2.570918229788253 6.369202409538617 1.3856066283752686 -28.255884792364427\n"
     ]
    }
   ],
   "source": [
    "#Linear Regression Model\n",
    "reg=LinearRegression()\n",
    "reg.fit(X_train,y_train)\n",
    "ypred=reg.predict(X_test)\n",
    "\n",
    "mae=mean_absolute_error(ypred,y_test)\n",
    "rmse=np.sqrt(mean_squared_error(ypred,y_test))\n",
    "mape=mean_absolute_percentage_error(ypred,y_test)\n",
    "r2=r2_score(ypred,y_test)\n",
    "\n",
    "print(mae,rmse,mape,r2)\n"
   ]
  },
  {
   "cell_type": "code",
   "execution_count": 20,
   "metadata": {},
   "outputs": [
    {
     "name": "stdout",
     "output_type": "stream",
     "text": [
      "2.570916943879137 6.369204333543915 1.3856083320351542 -28.256580697184056\n"
     ]
    }
   ],
   "source": [
    "#Ridge Regression Model\n",
    "ridge=Ridge()\n",
    "ridge.fit(X_train,y_train)\n",
    "ypred=ridge.predict(X_test)\n",
    "\n",
    "mae=mean_absolute_error(ypred,y_test)\n",
    "rmse=np.sqrt(mean_squared_error(ypred,y_test))\n",
    "mape=mean_absolute_percentage_error(ypred,y_test)\n",
    "r2=r2_score(ypred,y_test)\n",
    "\n",
    "print(mae,rmse,mape,r2)\n"
   ]
  },
  {
   "cell_type": "code",
   "execution_count": 21,
   "metadata": {},
   "outputs": [
    {
     "name": "stdout",
     "output_type": "stream",
     "text": [
      "2.549624782140748 6.392796062190529 1.4293201691401674 -36.445290437964765\n"
     ]
    }
   ],
   "source": [
    "#Lasso Regression Model\n",
    "lasso=Lasso()\n",
    "lasso.fit(X_train,y_train)\n",
    "ypred=lasso.predict(X_test)\n",
    "\n",
    "mae=mean_absolute_error(ypred,y_test)\n",
    "rmse=np.sqrt(mean_squared_error(ypred,y_test))\n",
    "mape=mean_absolute_percentage_error(ypred,y_test)\n",
    "r2=r2_score(ypred,y_test)\n",
    "\n",
    "print(mae,rmse,mape,r2)\n"
   ]
  },
  {
   "cell_type": "code",
   "execution_count": 22,
   "metadata": {},
   "outputs": [
    {
     "name": "stdout",
     "output_type": "stream",
     "text": [
      "1.9433248068975897 6.7929517857946635 13.903223079215099 -40310.977284877066\n"
     ]
    }
   ],
   "source": [
    "#SVM Model\n",
    "svm=SVR()\n",
    "svm.fit(X_train,y_train)\n",
    "ypred=svm.predict(X_test)\n",
    "\n",
    "mae=mean_absolute_error(ypred,y_test)\n",
    "rmse=np.sqrt(mean_squared_error(ypred,y_test))\n",
    "mape=mean_absolute_percentage_error(ypred,y_test)\n",
    "r2=r2_score(ypred,y_test)\n",
    "\n",
    "print(mae,rmse,mape,r2)\n"
   ]
  },
  {
   "cell_type": "code",
   "execution_count": 23,
   "metadata": {},
   "outputs": [
    {
     "name": "stdout",
     "output_type": "stream",
     "text": [
      "2.7176621160409558 6.629975808283921 2.0414310179830086 -11.353530286509546\n"
     ]
    }
   ],
   "source": [
    "#Random Forest Model\n",
    "forest=RandomForestRegressor()\n",
    "forest.fit(X_train,y_train)\n",
    "ypred=forest.predict(X_test)\n",
    "\n",
    "mae=mean_absolute_error(ypred,y_test)\n",
    "rmse=np.sqrt(mean_squared_error(ypred,y_test))\n",
    "mape=mean_absolute_percentage_error(ypred,y_test)\n",
    "r2=r2_score(ypred,y_test)\n",
    "\n",
    "print(mae,rmse,mape,r2)\n"
   ]
  },
  {
   "cell_type": "code",
   "execution_count": null,
   "metadata": {},
   "outputs": [],
   "source": [
    "#target=winspeed\n"
   ]
  }
 ],
 "metadata": {
  "kernelspec": {
   "display_name": ".venv",
   "language": "python",
   "name": "python3"
  },
  "language_info": {
   "codemirror_mode": {
    "name": "ipython",
    "version": 3
   },
   "file_extension": ".py",
   "mimetype": "text/x-python",
   "name": "python",
   "nbconvert_exporter": "python",
   "pygments_lexer": "ipython3",
   "version": "3.10.11"
  }
 },
 "nbformat": 4,
 "nbformat_minor": 2
}
