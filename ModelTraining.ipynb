{
 "cells": [
  {
   "cell_type": "code",
   "execution_count": 1,
   "metadata": {},
   "outputs": [],
   "source": [
    "import numpy as np\n",
    "import pandas as pd\n",
    "from sklearn.model_selection import train_test_split\n"
   ]
  },
  {
   "cell_type": "code",
   "execution_count": 2,
   "metadata": {},
   "outputs": [
    {
     "data": {
      "text/html": [
       "<div>\n",
       "<style scoped>\n",
       "    .dataframe tbody tr th:only-of-type {\n",
       "        vertical-align: middle;\n",
       "    }\n",
       "\n",
       "    .dataframe tbody tr th {\n",
       "        vertical-align: top;\n",
       "    }\n",
       "\n",
       "    .dataframe thead th {\n",
       "        text-align: right;\n",
       "    }\n",
       "</style>\n",
       "<table border=\"1\" class=\"dataframe\">\n",
       "  <thead>\n",
       "    <tr style=\"text-align: right;\">\n",
       "      <th></th>\n",
       "      <th>time</th>\n",
       "      <th>tavg</th>\n",
       "      <th>prcp</th>\n",
       "      <th>wspd</th>\n",
       "      <th>wdir</th>\n",
       "      <th>pres</th>\n",
       "      <th>Date</th>\n",
       "    </tr>\n",
       "  </thead>\n",
       "  <tbody>\n",
       "    <tr>\n",
       "      <th>0</th>\n",
       "      <td>2020-01-01 00:01:00</td>\n",
       "      <td>4.7</td>\n",
       "      <td>0.0</td>\n",
       "      <td>10.8</td>\n",
       "      <td>293.0</td>\n",
       "      <td>1035.1</td>\n",
       "      <td>1</td>\n",
       "    </tr>\n",
       "    <tr>\n",
       "      <th>1</th>\n",
       "      <td>2020-01-02 00:01:00</td>\n",
       "      <td>1.3</td>\n",
       "      <td>0.0</td>\n",
       "      <td>4.9</td>\n",
       "      <td>142.0</td>\n",
       "      <td>1032.2</td>\n",
       "      <td>1</td>\n",
       "    </tr>\n",
       "    <tr>\n",
       "      <th>2</th>\n",
       "      <td>2020-01-03 00:01:00</td>\n",
       "      <td>-0.7</td>\n",
       "      <td>0.0</td>\n",
       "      <td>6.3</td>\n",
       "      <td>168.0</td>\n",
       "      <td>1027.9</td>\n",
       "      <td>1</td>\n",
       "    </tr>\n",
       "    <tr>\n",
       "      <th>3</th>\n",
       "      <td>2020-01-04 00:01:00</td>\n",
       "      <td>5.8</td>\n",
       "      <td>3.2</td>\n",
       "      <td>20.9</td>\n",
       "      <td>273.0</td>\n",
       "      <td>1023.7</td>\n",
       "      <td>1</td>\n",
       "    </tr>\n",
       "    <tr>\n",
       "      <th>4</th>\n",
       "      <td>2020-01-05 00:01:00</td>\n",
       "      <td>3.5</td>\n",
       "      <td>0.0</td>\n",
       "      <td>20.1</td>\n",
       "      <td>306.0</td>\n",
       "      <td>1032.2</td>\n",
       "      <td>1</td>\n",
       "    </tr>\n",
       "  </tbody>\n",
       "</table>\n",
       "</div>"
      ],
      "text/plain": [
       "                 time  tavg  prcp  wspd   wdir    pres  Date\n",
       "0 2020-01-01 00:01:00   4.7   0.0  10.8  293.0  1035.1     1\n",
       "1 2020-01-02 00:01:00   1.3   0.0   4.9  142.0  1032.2     1\n",
       "2 2020-01-03 00:01:00  -0.7   0.0   6.3  168.0  1027.9     1\n",
       "3 2020-01-04 00:01:00   5.8   3.2  20.9  273.0  1023.7     1\n",
       "4 2020-01-05 00:01:00   3.5   0.0  20.1  306.0  1032.2     1"
      ]
     },
     "execution_count": 2,
     "metadata": {},
     "output_type": "execute_result"
    }
   ],
   "source": [
    "df=pd.read_csv('weather.csv')\n",
    "df['time']=pd.to_datetime(df['time'],format=\"%Y-%M-%d\")\n",
    "df['Date']=df['time'].dt.month\n",
    "df.head()"
   ]
  },
  {
   "cell_type": "code",
   "execution_count": 3,
   "metadata": {},
   "outputs": [],
   "source": [
    "#target = temp\n",
    "y=df.iloc[:,1]\n",
    "X=df.iloc[:,[2,3,4,5,6]]\n",
    "temperrors=[]"
   ]
  },
  {
   "cell_type": "code",
   "execution_count": 4,
   "metadata": {},
   "outputs": [],
   "source": [
    "X_train,X_test,y_train,y_test=train_test_split(X,y,test_size=0.2,random_state=20)"
   ]
  },
  {
   "cell_type": "code",
   "execution_count": 5,
   "metadata": {},
   "outputs": [],
   "source": [
    "from sklearn.linear_model import LinearRegression\n",
    "from sklearn.linear_model import Ridge\n",
    "from sklearn.linear_model import Lasso\n",
    "from sklearn.svm import SVR\n",
    "from sklearn.ensemble import RandomForestRegressor\n",
    "\n",
    "\n",
    "from sklearn.metrics import mean_absolute_error\n",
    "from sklearn.metrics import mean_absolute_percentage_error\n",
    "from sklearn.metrics import mean_squared_error\n",
    "from sklearn.metrics import r2_score\n"
   ]
  },
  {
   "cell_type": "code",
   "execution_count": 6,
   "metadata": {},
   "outputs": [
    {
     "name": "stdout",
     "output_type": "stream",
     "text": [
      "6.195689783570254 7.406969465586071 0.4707859357546924 -7.0499531823983155\n"
     ]
    }
   ],
   "source": [
    "#Linear Regression Model\n",
    "reg=LinearRegression()\n",
    "reg.fit(X_train,y_train)\n",
    "ypred=reg.predict(X_test)\n",
    "\n",
    "mae=mean_absolute_error(ypred,y_test)\n",
    "rmse=np.sqrt(mean_squared_error(ypred,y_test))\n",
    "mape=mean_absolute_percentage_error(ypred,y_test)\n",
    "r2=r2_score(ypred,y_test)\n",
    "\n",
    "temperrors.append((mae,rmse,mape,r2))\n",
    "print(mae,rmse,mape,r2)\n",
    "\n"
   ]
  },
  {
   "cell_type": "code",
   "execution_count": 7,
   "metadata": {},
   "outputs": [
    {
     "name": "stdout",
     "output_type": "stream",
     "text": [
      "6.195691939705571 7.40696483589988 0.47078523485748763 -7.0504240677603836\n"
     ]
    }
   ],
   "source": [
    "#Ridge Regression Model\n",
    "ridge=Ridge()\n",
    "ridge.fit(X_train,y_train)\n",
    "ypred=ridge.predict(X_test)\n",
    "\n",
    "mae=mean_absolute_error(ypred,y_test)\n",
    "rmse=np.sqrt(mean_squared_error(ypred,y_test))\n",
    "mape=mean_absolute_percentage_error(ypred,y_test)\n",
    "r2=r2_score(ypred,y_test)\n",
    "\n",
    "temperrors.append((mae,rmse,mape,r2))\n",
    "print(mae,rmse,mape,r2)"
   ]
  },
  {
   "cell_type": "code",
   "execution_count": 8,
   "metadata": {},
   "outputs": [
    {
     "name": "stdout",
     "output_type": "stream",
     "text": [
      "6.202448714206602 7.380824237951661 0.46929837449602835 -9.09654917782634\n"
     ]
    }
   ],
   "source": [
    "#Lasso Regression Model\n",
    "lasso=Lasso()\n",
    "lasso.fit(X_train,y_train)\n",
    "ypred=lasso.predict(X_test)\n",
    "\n",
    "mae=mean_absolute_error(ypred,y_test)\n",
    "rmse=np.sqrt(mean_squared_error(ypred,y_test))\n",
    "mape=mean_absolute_percentage_error(ypred,y_test)\n",
    "r2=r2_score(ypred,y_test)\n",
    "\n",
    "temperrors.append((mae,rmse,mape,r2))\n",
    "print(mae,rmse,mape,r2)"
   ]
  },
  {
   "cell_type": "code",
   "execution_count": 9,
   "metadata": {},
   "outputs": [
    {
     "name": "stdout",
     "output_type": "stream",
     "text": [
      "6.543749666125777 7.57794359781967 0.505601950633516 -1902.5745607287427\n"
     ]
    }
   ],
   "source": [
    "#SVM Model\n",
    "svm=SVR()\n",
    "svm.fit(X_train,y_train)\n",
    "ypred=svm.predict(X_test)\n",
    "\n",
    "mae=mean_absolute_error(ypred,y_test)\n",
    "rmse=np.sqrt(mean_squared_error(ypred,y_test))\n",
    "mape=mean_absolute_percentage_error(ypred,y_test)\n",
    "r2=r2_score(ypred,y_test)\n",
    "\n",
    "temperrors.append((mae,rmse,mape,r2))\n",
    "print(mae,rmse,mape,r2)\n"
   ]
  },
  {
   "cell_type": "code",
   "execution_count": 10,
   "metadata": {},
   "outputs": [
    {
     "name": "stdout",
     "output_type": "stream",
     "text": [
      "5.448535836177475 6.832627503683746 0.5140439141793793 -0.8437444597047039\n"
     ]
    }
   ],
   "source": [
    "#RandomForestRegressor\n",
    "forest=RandomForestRegressor()\n",
    "forest.fit(X_train,y_train)\n",
    "ypred=forest.predict(X_test)\n",
    "\n",
    "mae=mean_absolute_error(ypred,y_test)\n",
    "rmse=np.sqrt(mean_squared_error(ypred,y_test))\n",
    "mape=mean_absolute_percentage_error(ypred,y_test)\n",
    "r2=r2_score(ypred,y_test)\n",
    "\n",
    "temperrors.append((mae,rmse,mape,r2))\n",
    "print(mae,rmse,mape,r2)\n"
   ]
  },
  {
   "cell_type": "code",
   "execution_count": 11,
   "metadata": {},
   "outputs": [
    {
     "name": "stdout",
     "output_type": "stream",
     "text": [
      "[(np.float64(6.195689783570254), np.float64(7.406969465586071), np.float64(0.4707859357546924), -7.0499531823983155), (np.float64(6.195691939705571), np.float64(7.40696483589988), np.float64(0.47078523485748763), -7.0504240677603836), (np.float64(6.202448714206602), np.float64(7.380824237951661), np.float64(0.46929837449602835), -9.09654917782634), (np.float64(6.543749666125777), np.float64(7.57794359781967), np.float64(0.505601950633516), -1902.5745607287427), (np.float64(5.448535836177475), np.float64(6.832627503683746), np.float64(0.5140439141793793), -0.8437444597047039)]\n"
     ]
    }
   ],
   "source": [
    "print(temperrors)"
   ]
  },
  {
   "cell_type": "code",
   "execution_count": 12,
   "metadata": {},
   "outputs": [],
   "source": [
    "#target=precipitation\n",
    "X=df.iloc[:,[1,3,4,5,6]]\n",
    "y=df.iloc[:,2]\n",
    "precerrors=[]"
   ]
  },
  {
   "cell_type": "code",
   "execution_count": 13,
   "metadata": {},
   "outputs": [],
   "source": [
    "X_train,X_test,y_train,y_test=train_test_split(X,y,test_size=0.2,random_state=20)"
   ]
  },
  {
   "cell_type": "code",
   "execution_count": 14,
   "metadata": {},
   "outputs": [
    {
     "name": "stdout",
     "output_type": "stream",
     "text": [
      "2.570918229788253 6.369202409538617 1.3856066283752686 -28.255884792364427\n"
     ]
    }
   ],
   "source": [
    "#Linear Regression Model\n",
    "reg=LinearRegression()\n",
    "reg.fit(X_train,y_train)\n",
    "ypred=reg.predict(X_test)\n",
    "\n",
    "mae=mean_absolute_error(ypred,y_test)\n",
    "rmse=np.sqrt(mean_squared_error(ypred,y_test))\n",
    "mape=mean_absolute_percentage_error(ypred,y_test)\n",
    "r2=r2_score(ypred,y_test)\n",
    "\n",
    "precerrors.append((mae,rmse,mape,r2))\n",
    "print(mae,rmse,mape,r2)\n"
   ]
  },
  {
   "cell_type": "code",
   "execution_count": 15,
   "metadata": {},
   "outputs": [
    {
     "name": "stdout",
     "output_type": "stream",
     "text": [
      "2.570916943879137 6.369204333543915 1.3856083320351542 -28.256580697184056\n"
     ]
    }
   ],
   "source": [
    "#Ridge Regression Model\n",
    "ridge=Ridge()\n",
    "ridge.fit(X_train,y_train)\n",
    "ypred=ridge.predict(X_test)\n",
    "\n",
    "mae=mean_absolute_error(ypred,y_test)\n",
    "rmse=np.sqrt(mean_squared_error(ypred,y_test))\n",
    "mape=mean_absolute_percentage_error(ypred,y_test)\n",
    "r2=r2_score(ypred,y_test)\n",
    "\n",
    "precerrors.append((mae,rmse,mape,r2))\n",
    "print(mae,rmse,mape,r2)\n"
   ]
  },
  {
   "cell_type": "code",
   "execution_count": 16,
   "metadata": {},
   "outputs": [
    {
     "name": "stdout",
     "output_type": "stream",
     "text": [
      "2.549624782140748 6.392796062190529 1.4293201691401674 -36.445290437964765\n"
     ]
    }
   ],
   "source": [
    "#Lasso Regression Model\n",
    "lasso=Lasso()\n",
    "lasso.fit(X_train,y_train)\n",
    "ypred=lasso.predict(X_test)\n",
    "\n",
    "mae=mean_absolute_error(ypred,y_test)\n",
    "rmse=np.sqrt(mean_squared_error(ypred,y_test))\n",
    "mape=mean_absolute_percentage_error(ypred,y_test)\n",
    "r2=r2_score(ypred,y_test)\n",
    "\n",
    "precerrors.append((mae,rmse,mape,r2))\n",
    "print(mae,rmse,mape,r2)\n"
   ]
  },
  {
   "cell_type": "code",
   "execution_count": 17,
   "metadata": {},
   "outputs": [
    {
     "name": "stdout",
     "output_type": "stream",
     "text": [
      "1.9433248068975897 6.7929517857946635 13.903223079215099 -40310.977284877066\n"
     ]
    }
   ],
   "source": [
    "#SVM Model\n",
    "svm=SVR()\n",
    "svm.fit(X_train,y_train)\n",
    "ypred=svm.predict(X_test)\n",
    "\n",
    "mae=mean_absolute_error(ypred,y_test)\n",
    "rmse=np.sqrt(mean_squared_error(ypred,y_test))\n",
    "mape=mean_absolute_percentage_error(ypred,y_test)\n",
    "r2=r2_score(ypred,y_test)\n",
    "\n",
    "precerrors.append((mae,rmse,mape,r2))\n",
    "print(mae,rmse,mape,r2)\n"
   ]
  },
  {
   "cell_type": "code",
   "execution_count": 18,
   "metadata": {},
   "outputs": [
    {
     "name": "stdout",
     "output_type": "stream",
     "text": [
      "2.708580204778157 6.586890460495495 2.1356465044849107 -12.380486653656043\n"
     ]
    }
   ],
   "source": [
    "#Random Forest Model\n",
    "forest=RandomForestRegressor()\n",
    "forest.fit(X_train,y_train)\n",
    "ypred=forest.predict(X_test)\n",
    "\n",
    "mae=mean_absolute_error(ypred,y_test)\n",
    "rmse=np.sqrt(mean_squared_error(ypred,y_test))\n",
    "mape=mean_absolute_percentage_error(ypred,y_test)\n",
    "r2=r2_score(ypred,y_test)\n",
    "\n",
    "precerrors.append((mae,rmse,mape,r2))\n",
    "print(mae,rmse,mape,r2)\n"
   ]
  },
  {
   "cell_type": "code",
   "execution_count": 19,
   "metadata": {},
   "outputs": [],
   "source": [
    "#target=winspeed\n",
    "X=df.iloc[:,[1,2,4,5,6]]\n",
    "y=df.iloc[:,3]\n",
    "winerrors=[]"
   ]
  },
  {
   "cell_type": "code",
   "execution_count": 20,
   "metadata": {},
   "outputs": [],
   "source": [
    "X_train,X_test,y_train,y_test=train_test_split(X,y,test_size=0.2,random_state=20)"
   ]
  },
  {
   "cell_type": "code",
   "execution_count": 21,
   "metadata": {},
   "outputs": [
    {
     "name": "stdout",
     "output_type": "stream",
     "text": [
      "3.406658201139301 4.3111411160757775 0.2879471809155785 -1.832199774699756\n"
     ]
    }
   ],
   "source": [
    "#Linear Regression Model\n",
    "reg=LinearRegression()\n",
    "reg.fit(X_train,y_train)\n",
    "ypred=reg.predict(X_test)\n",
    "\n",
    "mae=mean_absolute_error(ypred,y_test)\n",
    "rmse=np.sqrt(mean_squared_error(ypred,y_test))\n",
    "mape=mean_absolute_percentage_error(ypred,y_test)\n",
    "r2=r2_score(ypred,y_test)\n",
    "\n",
    "winerrors.append((mae,rmse,mape,r2))\n",
    "print(mae,rmse,mape,r2)"
   ]
  },
  {
   "cell_type": "code",
   "execution_count": 22,
   "metadata": {},
   "outputs": [
    {
     "name": "stdout",
     "output_type": "stream",
     "text": [
      "3.4066579680904487 4.311140906468726 0.2879470422198807 -1.832237402158278\n"
     ]
    }
   ],
   "source": [
    "#Ridge Regression Model\n",
    "ridge=Ridge()\n",
    "ridge.fit(X_train,y_train)\n",
    "ypred=ridge.predict(X_test)\n",
    "\n",
    "mae=mean_absolute_error(ypred,y_test)\n",
    "rmse=np.sqrt(mean_squared_error(ypred,y_test))\n",
    "mape=mean_absolute_percentage_error(ypred,y_test)\n",
    "r2=r2_score(ypred,y_test)\n",
    "\n",
    "winerrors.append((mae,rmse,mape,r2))\n",
    "print(mae,rmse,mape,r2)"
   ]
  },
  {
   "cell_type": "code",
   "execution_count": 23,
   "metadata": {},
   "outputs": [
    {
     "name": "stdout",
     "output_type": "stream",
     "text": [
      "3.4132800073750955 4.323576056907934 0.2873888947704592 -2.2729279359968158\n"
     ]
    }
   ],
   "source": [
    "#Lasso Regression Model\n",
    "lasso=Lasso()\n",
    "lasso.fit(X_train,y_train)\n",
    "ypred=lasso.predict(X_test)\n",
    "\n",
    "mae=mean_absolute_error(ypred,y_test)\n",
    "rmse=np.sqrt(mean_squared_error(ypred,y_test))\n",
    "mape=mean_absolute_percentage_error(ypred,y_test)\n",
    "r2=r2_score(ypred,y_test)\n",
    "\n",
    "winerrors.append((mae,rmse,mape,r2))\n",
    "print(mae,rmse,mape,r2)"
   ]
  },
  {
   "cell_type": "code",
   "execution_count": 24,
   "metadata": {},
   "outputs": [
    {
     "name": "stdout",
     "output_type": "stream",
     "text": [
      "3.5030616467240843 4.5408097275765416 0.3104184698915331 -5.624432509220124\n"
     ]
    }
   ],
   "source": [
    "#SVM Model\n",
    "svm=SVR()\n",
    "svm.fit(X_train,y_train)\n",
    "ypred=svm.predict(X_test)\n",
    "\n",
    "mae=mean_absolute_error(ypred,y_test)\n",
    "rmse=np.sqrt(mean_squared_error(ypred,y_test))\n",
    "mape=mean_absolute_percentage_error(ypred,y_test)\n",
    "r2=r2_score(ypred,y_test)\n",
    "\n",
    "winerrors.append((mae,rmse,mape,r2))\n",
    "print(mae,rmse,mape,r2)"
   ]
  },
  {
   "cell_type": "code",
   "execution_count": 25,
   "metadata": {},
   "outputs": [
    {
     "name": "stdout",
     "output_type": "stream",
     "text": [
      "3.143354948805461 3.980011234055526 0.2610258535999888 -0.4163769057738633\n"
     ]
    }
   ],
   "source": [
    "#Random Forest Model\n",
    "forest=RandomForestRegressor()\n",
    "forest.fit(X_train,y_train)\n",
    "ypred=forest.predict(X_test)\n",
    "\n",
    "mae=mean_absolute_error(ypred,y_test)\n",
    "rmse=np.sqrt(mean_squared_error(ypred,y_test))\n",
    "mape=mean_absolute_percentage_error(ypred,y_test)\n",
    "r2=r2_score(ypred,y_test)\n",
    "\n",
    "winerrors.append((mae,rmse,mape,r2))\n",
    "print(mae,rmse,mape,r2)"
   ]
  },
  {
   "cell_type": "code",
   "execution_count": 29,
   "metadata": {},
   "outputs": [],
   "source": [
    "#target = pressure\n",
    "X=df.iloc[:,[1,2,3,4,6]]\n",
    "y=df.iloc[:,5]\n",
    "presserrors=[]"
   ]
  },
  {
   "cell_type": "code",
   "execution_count": 30,
   "metadata": {},
   "outputs": [],
   "source": [
    "X_train,X_test,y_train,y_test=train_test_split(X,y,test_size=0.2,random_state=20)"
   ]
  },
  {
   "cell_type": "code",
   "execution_count": 31,
   "metadata": {},
   "outputs": [
    {
     "name": "stdout",
     "output_type": "stream",
     "text": [
      "6.196107201526782 8.004547178106112 0.0060878663012558015 -4.377992587789679\n"
     ]
    }
   ],
   "source": [
    "#Linear Regression Model\n",
    "reg=LinearRegression()\n",
    "reg.fit(X_train,y_train)\n",
    "ypred=reg.predict(X_test)\n",
    "\n",
    "mae=mean_absolute_error(ypred,y_test)\n",
    "rmse=np.sqrt(mean_squared_error(ypred,y_test))\n",
    "mape=mean_absolute_percentage_error(ypred,y_test)\n",
    "r2=r2_score(ypred,y_test)\n",
    "\n",
    "winerrors.append((mae,rmse,mape,r2))\n",
    "print(mae,rmse,mape,r2)"
   ]
  },
  {
   "cell_type": "code",
   "execution_count": 32,
   "metadata": {},
   "outputs": [
    {
     "name": "stdout",
     "output_type": "stream",
     "text": [
      "6.196109923723851 8.004539883908462 0.006087868927489609 -4.378316042957009\n"
     ]
    }
   ],
   "source": [
    "#Ridge Regression Model\n",
    "ridge=Ridge()\n",
    "ridge.fit(X_train,y_train)\n",
    "ypred=ridge.predict(X_test)\n",
    "\n",
    "mae=mean_absolute_error(ypred,y_test)\n",
    "rmse=np.sqrt(mean_squared_error(ypred,y_test))\n",
    "mape=mean_absolute_percentage_error(ypred,y_test)\n",
    "r2=r2_score(ypred,y_test)\n",
    "\n",
    "winerrors.append((mae,rmse,mape,r2))\n",
    "print(mae,rmse,mape,r2)"
   ]
  },
  {
   "cell_type": "code",
   "execution_count": 33,
   "metadata": {},
   "outputs": [
    {
     "name": "stdout",
     "output_type": "stream",
     "text": [
      "6.215802902804639 7.98626357779135 0.0061070438460697615 -5.747885399431746\n"
     ]
    }
   ],
   "source": [
    "#Lasso Regression Model\n",
    "lasso=Lasso()\n",
    "lasso.fit(X_train,y_train)\n",
    "ypred=lasso.predict(X_test)\n",
    "\n",
    "mae=mean_absolute_error(ypred,y_test)\n",
    "rmse=np.sqrt(mean_squared_error(ypred,y_test))\n",
    "mape=mean_absolute_percentage_error(ypred,y_test)\n",
    "r2=r2_score(ypred,y_test)\n",
    "\n",
    "winerrors.append((mae,rmse,mape,r2))\n",
    "print(mae,rmse,mape,r2)"
   ]
  },
  {
   "cell_type": "code",
   "execution_count": 34,
   "metadata": {},
   "outputs": [
    {
     "name": "stdout",
     "output_type": "stream",
     "text": [
      "6.216483992619883 8.114231518609781 0.006107691348896387 -28.622835326882647\n"
     ]
    }
   ],
   "source": [
    "#SVM Model\n",
    "svm=SVR()\n",
    "svm.fit(X_train,y_train)\n",
    "ypred=svm.predict(X_test)\n",
    "\n",
    "mae=mean_absolute_error(ypred,y_test)\n",
    "rmse=np.sqrt(mean_squared_error(ypred,y_test))\n",
    "mape=mean_absolute_percentage_error(ypred,y_test)\n",
    "r2=r2_score(ypred,y_test)\n",
    "\n",
    "winerrors.append((mae,rmse,mape,r2))\n",
    "print(mae,rmse,mape,r2)"
   ]
  },
  {
   "cell_type": "code",
   "execution_count": 35,
   "metadata": {},
   "outputs": [
    {
     "name": "stdout",
     "output_type": "stream",
     "text": [
      "5.239341296928343 6.979003174319899 0.005147113777772381 -0.7258932045297561\n"
     ]
    }
   ],
   "source": [
    "#Random Forest Model\n",
    "forest=RandomForestRegressor()\n",
    "forest.fit(X_train,y_train)\n",
    "ypred=forest.predict(X_test)\n",
    "\n",
    "mae=mean_absolute_error(ypred,y_test)\n",
    "rmse=np.sqrt(mean_squared_error(ypred,y_test))\n",
    "mape=mean_absolute_percentage_error(ypred,y_test)\n",
    "r2=r2_score(ypred,y_test)\n",
    "\n",
    "winerrors.append((mae,rmse,mape,r2))\n",
    "print(mae,rmse,mape,r2)"
   ]
  },
  {
   "cell_type": "code",
   "execution_count": null,
   "metadata": {},
   "outputs": [],
   "source": []
  }
 ],
 "metadata": {
  "kernelspec": {
   "display_name": ".venv",
   "language": "python",
   "name": "python3"
  },
  "language_info": {
   "codemirror_mode": {
    "name": "ipython",
    "version": 3
   },
   "file_extension": ".py",
   "mimetype": "text/x-python",
   "name": "python",
   "nbconvert_exporter": "python",
   "pygments_lexer": "ipython3",
   "version": "3.10.11"
  }
 },
 "nbformat": 4,
 "nbformat_minor": 2
}
